{
  "nbformat": 4,
  "nbformat_minor": 0,
  "metadata": {
    "colab": {
      "provenance": [],
      "authorship_tag": "ABX9TyMG6POc94nwZlLkSDdPNHpD",
      "include_colab_link": true
    },
    "kernelspec": {
      "name": "python3",
      "display_name": "Python 3"
    },
    "language_info": {
      "name": "python"
    }
  },
  "cells": [
    {
      "cell_type": "markdown",
      "metadata": {
        "id": "view-in-github",
        "colab_type": "text"
      },
      "source": [
        "<a href=\"https://colab.research.google.com/github/DeepHansda/VS-Code-Online---code-server/blob/main/vs_code_online.ipynb\" target=\"_parent\"><img src=\"https://colab.research.google.com/assets/colab-badge.svg\" alt=\"Open In Colab\"/></a>"
      ]
    },
    {
      "cell_type": "code",
      "source": [
        "## Step 1: Install Necessary Tools\n",
        "try:\n",
        "    !pip install pyngrok\n",
        "    !curl -fsSL https://code-server.dev/install.sh | sh\n",
        "    !mkdir -p ~/.local/lib ~/.local/bin\n",
        "    !curl -fL https://github.com/coder/code-server/releases/download/v$VERSION/code-server-$VERSION-linux-amd64.tar.gz \\\n",
        "      | tar -C ~/.local/lib -xz\n",
        "    !mv ~/.local/lib/code-server-$VERSION-linux-amd64 ~/.local/lib/code-server-$VERSION\n",
        "    !ln -s ~/.local/lib/code-server-$VERSION/bin/code-server ~/.local/bin/code-server\n",
        "    !PATH=\"~/.local/bin:$PATH\"\n",
        "except Exception as e:\n",
        "    print(\"Error installing tools:\", e)"
      ],
      "metadata": {
        "id": "PD0P2hJQEsd6"
      },
      "execution_count": null,
      "outputs": []
    },
    {
      "cell_type": "code",
      "execution_count": null,
      "metadata": {
        "id": "z_T7okjnEZFa"
      },
      "outputs": [],
      "source": [
        "import json\n",
        "from threading import Timer\n",
        "from queue import Queue\n",
        "from pyngrok import ngrok"
      ]
    },
    {
      "cell_type": "code",
      "source": [
        "\n",
        "# Step 2: Detect Environment and Retrieve Tokens\n",
        "try:\n",
        "    env = %pwd\n",
        "    ngrok_token = None\n",
        "    ngrok_domain = None\n",
        "    if \"/content\" in env:  # Google Colab\n",
        "        from google.colab import userdata\n",
        "        ngrok_token = userdata.get('NGROK_TOKEN')\n",
        "        ngrok_domain = userdata.get('NGROK_DOMAIN')\n",
        "    elif \"/kaggle\" in env:  # Kaggle\n",
        "        from kaggle_secrets import UserSecretsClient\n",
        "        user_secrets = UserSecretsClient()\n",
        "        ngrok_token = user_secrets.get_secret(\"NGROK_TOKEN\")\n",
        "        ngrok_domain = user_secrets.get_secret(\"NGROK_DOMAIN\")\n",
        "\n",
        "    if not ngrok_token:\n",
        "        raise ValueError(\"Ngrok token is missing.\")\n",
        "except Exception as e:\n",
        "    print(\"Error detecting environment or retrieving tokens:\", e)"
      ],
      "metadata": {
        "id": "n3j21tJ0Kbxl"
      },
      "execution_count": null,
      "outputs": []
    },
    {
      "cell_type": "code",
      "source": [
        "# Step 3: Define Function to Set Up Ngrok Tunnel\n",
        "def ngrok_tunnel(port, queue, auth_token):\n",
        "    try:\n",
        "        ngrok.set_auth_token(auth_token)\n",
        "        url = ngrok.connect(port, domain=ngrok_domain)\n",
        "        queue.put(url)\n",
        "    except Exception as e:\n",
        "        print(\"Error starting ngrok tunnel:\", e)"
      ],
      "metadata": {
        "id": "YncsdTeULARQ"
      },
      "execution_count": null,
      "outputs": []
    },
    {
      "cell_type": "code",
      "source": [
        "\n",
        "# Step 4: Start the Ngrok Tunnel\n",
        "try:\n",
        "    ngrok_output_queue = Queue()\n",
        "    ngrok_thread = Timer(2, ngrok_tunnel, args=(8188, ngrok_output_queue, ngrok_token))\n",
        "    ngrok_thread.start()\n",
        "    ngrok_thread.join()\n",
        "    print(\"Ngrok URL:\", ngrok_output_queue.get())\n",
        "except Exception as e:\n",
        "    print(\"Error starting ngrok thread:\", e)"
      ],
      "metadata": {
        "id": "aPBM898-LUq7"
      },
      "execution_count": null,
      "outputs": []
    },
    {
      "cell_type": "code",
      "source": [
        "\n",
        "# Step 5: Print Tunnels (If Any)\n",
        "try:\n",
        "    tunnels = ngrok.get_tunnels()\n",
        "    print(\"Active tunnels:\", tunnels)\n",
        "except Exception as e:\n",
        "    print(\"Error retrieving tunnels:\", e)\n",
        "\n",
        "# Step 6: Start Code Server\n",
        "try:\n",
        "    !code-server --auth none --port 8188\n",
        "except Exception as e:\n",
        "    print(\"Error starting code-server:\", e)"
      ],
      "metadata": {
        "id": "En0R0m0HLazI"
      },
      "execution_count": null,
      "outputs": []
    }
  ]
}